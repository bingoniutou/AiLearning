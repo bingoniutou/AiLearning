{
  "cells": [
    {
      "cell_type": "markdown",
      "metadata": {
        "id": "GDDVue_1cq6d"
      },
      "source": [
        "# NVIDIA NIMs\n",
        "\n",
        "The `langchain-nvidia-ai-endpoints` package contains LangChain integrations building applications with models on\n",
        "NVIDIA NIM inference microservice. NIM supports models across domains like chat, embedding, and re-ranking models\n",
        "from the community as well as NVIDIA. These models are optimized by NVIDIA to deliver the best performance on NVIDIA\n",
        "accelerated infrastructure and deployed as a NIM, an easy-to-use, prebuilt containers that deploy anywhere using a single\n",
        "command on NVIDIA accelerated infrastructure.\n",
        "\n",
        "NVIDIA hosted deployments of NIMs are available to test on the [NVIDIA API catalog](https://build.nvidia.com/). After testing,\n",
        "NIMs can be exported from NVIDIA’s API catalog using the NVIDIA AI Enterprise license and run on-premises or in the cloud,\n",
        "giving enterprises ownership and full control of their IP and AI application.\n",
        "\n",
        "NIMs are packaged as container images on a per model basis and are distributed as NGC container images through the NVIDIA NGC Catalog.\n",
        "At their core, NIMs provide easy, consistent, and familiar APIs for running inference on an AI model.\n",
        "\n",
        "This example goes over how to use LangChain to interact with the supported [NVIDIA Retrieval QA Embedding Model](https://build.nvidia.com/nvidia/embed-qa-4) for [retrieval-augmented generation](https://developer.nvidia.com/blog/build-enterprise-retrieval-augmented-generation-apps-with-nvidia-retrieval-qa-embedding-model/) via the `NVIDIAEmbeddings` class.\n",
        "\n",
        "For more information on accessing the chat models through this API, check out the [ChatNVIDIA](https://python.langchain.com/docs/integrations/chat/nvidia_ai_endpoints/) documentation."
      ]
    },
    {
      "cell_type": "markdown",
      "metadata": {
        "id": "9JR5-SC6-LdF"
      },
      "source": [
        "## Installation"
      ]
    },
    {
      "cell_type": "code",
      "execution_count": 1,
      "metadata": {
        "id": "KJFD8XX0-LdG",
        "outputId": "0f2bdda2-de44-432a-ffd6-8843600c4915",
        "colab": {
          "base_uri": "https://localhost:8080/"
        }
      },
      "outputs": [
        {
          "output_type": "stream",
          "name": "stdout",
          "text": [
            "\u001b[?25l   \u001b[90m━━━━━━━━━━━━━━━━━━━━━━━━━━━━━━━━━━━━━━━━\u001b[0m \u001b[32m0.0/41.3 kB\u001b[0m \u001b[31m?\u001b[0m eta \u001b[36m-:--:--\u001b[0m\r\u001b[2K   \u001b[90m━━━━━━━━━━━━━━━━━━━━━━━━━━━━━━━━━━━━━━━━\u001b[0m \u001b[32m41.3/41.3 kB\u001b[0m \u001b[31m972.1 kB/s\u001b[0m eta \u001b[36m0:00:00\u001b[0m\n",
            "\u001b[?25h"
          ]
        }
      ],
      "source": [
        "%pip install --upgrade --quiet  langchain-nvidia-ai-endpoints"
      ]
    },
    {
      "cell_type": "markdown",
      "metadata": {
        "id": "qKcxQMFTcwWi"
      },
      "source": [
        "## Setup\n",
        "\n",
        "**To get started:**\n",
        "\n",
        "1. Create a free account with [NVIDIA](https://build.nvidia.com/), which hosts NVIDIA AI Foundation models.\n",
        "\n",
        "2. Select the `Retrieval` tab, then select your model of choice.\n",
        "\n",
        "3. Under `Input` select the `Python` tab, and click `Get API Key`. Then click `Generate Key`.\n",
        "\n",
        "4. Copy and save the generated key as `NVIDIA_API_KEY`. From there, you should have access to the endpoints."
      ]
    },
    {
      "cell_type": "code",
      "execution_count": 8,
      "metadata": {
        "colab": {
          "base_uri": "https://localhost:8080/",
          "height": 356
        },
        "id": "hoF41-tNczS3",
        "outputId": "ba77b00e-b07d-4fff-9847-78ecb485e982"
      },
      "outputs": [
        {
          "output_type": "error",
          "ename": "KeyboardInterrupt",
          "evalue": "Interrupted by user",
          "traceback": [
            "\u001b[0;31m---------------------------------------------------------------------------\u001b[0m",
            "\u001b[0;31mKeyboardInterrupt\u001b[0m                         Traceback (most recent call last)",
            "\u001b[0;32m<ipython-input-8-fad95804a28f>\u001b[0m in \u001b[0;36m<cell line: 0>\u001b[0;34m()\u001b[0m\n\u001b[1;32m      6\u001b[0m     \u001b[0mprint\u001b[0m\u001b[0;34m(\u001b[0m\u001b[0;34m\"Valid NVIDIA_API_KEY already in environment. Delete to reset\"\u001b[0m\u001b[0;34m)\u001b[0m\u001b[0;34m\u001b[0m\u001b[0;34m\u001b[0m\u001b[0m\n\u001b[1;32m      7\u001b[0m \u001b[0;32melse\u001b[0m\u001b[0;34m:\u001b[0m\u001b[0;34m\u001b[0m\u001b[0;34m\u001b[0m\u001b[0m\n\u001b[0;32m----> 8\u001b[0;31m     \u001b[0mnvapi_key\u001b[0m \u001b[0;34m=\u001b[0m \u001b[0mgetpass\u001b[0m\u001b[0;34m.\u001b[0m\u001b[0mgetpass\u001b[0m\u001b[0;34m(\u001b[0m\u001b[0;34m\"NVAPI Key (starts with nvapi-): \"\u001b[0m\u001b[0;34m)\u001b[0m\u001b[0;34m\u001b[0m\u001b[0;34m\u001b[0m\u001b[0m\n\u001b[0m\u001b[1;32m      9\u001b[0m     \u001b[0;32massert\u001b[0m \u001b[0mnvapi_key\u001b[0m\u001b[0;34m.\u001b[0m\u001b[0mstartswith\u001b[0m\u001b[0;34m(\u001b[0m\u001b[0;34m\"nvapi-\"\u001b[0m\u001b[0;34m)\u001b[0m\u001b[0;34m,\u001b[0m \u001b[0;34mf\"{nvapi_key[:5]}... is not a valid key\"\u001b[0m\u001b[0;34m\u001b[0m\u001b[0;34m\u001b[0m\u001b[0m\n\u001b[1;32m     10\u001b[0m     \u001b[0mos\u001b[0m\u001b[0;34m.\u001b[0m\u001b[0menviron\u001b[0m\u001b[0;34m[\u001b[0m\u001b[0;34m\"NVIDIA_API_KEY\"\u001b[0m\u001b[0;34m]\u001b[0m \u001b[0;34m=\u001b[0m \u001b[0mnvapi_key\u001b[0m\u001b[0;34m\u001b[0m\u001b[0;34m\u001b[0m\u001b[0m\n",
            "\u001b[0;32m/usr/local/lib/python3.11/dist-packages/ipykernel/kernelbase.py\u001b[0m in \u001b[0;36mgetpass\u001b[0;34m(self, prompt, stream)\u001b[0m\n\u001b[1;32m   1157\u001b[0m                 \u001b[0mstacklevel\u001b[0m\u001b[0;34m=\u001b[0m\u001b[0;36m2\u001b[0m\u001b[0;34m,\u001b[0m\u001b[0;34m\u001b[0m\u001b[0;34m\u001b[0m\u001b[0m\n\u001b[1;32m   1158\u001b[0m             )\n\u001b[0;32m-> 1159\u001b[0;31m         return self._input_request(\n\u001b[0m\u001b[1;32m   1160\u001b[0m             \u001b[0mprompt\u001b[0m\u001b[0;34m,\u001b[0m\u001b[0;34m\u001b[0m\u001b[0;34m\u001b[0m\u001b[0m\n\u001b[1;32m   1161\u001b[0m             \u001b[0mself\u001b[0m\u001b[0;34m.\u001b[0m\u001b[0m_parent_ident\u001b[0m\u001b[0;34m[\u001b[0m\u001b[0;34m\"shell\"\u001b[0m\u001b[0;34m]\u001b[0m\u001b[0;34m,\u001b[0m\u001b[0;34m\u001b[0m\u001b[0;34m\u001b[0m\u001b[0m\n",
            "\u001b[0;32m/usr/local/lib/python3.11/dist-packages/ipykernel/kernelbase.py\u001b[0m in \u001b[0;36m_input_request\u001b[0;34m(self, prompt, ident, parent, password)\u001b[0m\n\u001b[1;32m   1217\u001b[0m             \u001b[0;32mexcept\u001b[0m \u001b[0mKeyboardInterrupt\u001b[0m\u001b[0;34m:\u001b[0m\u001b[0;34m\u001b[0m\u001b[0;34m\u001b[0m\u001b[0m\n\u001b[1;32m   1218\u001b[0m                 \u001b[0;31m# re-raise KeyboardInterrupt, to truncate traceback\u001b[0m\u001b[0;34m\u001b[0m\u001b[0;34m\u001b[0m\u001b[0m\n\u001b[0;32m-> 1219\u001b[0;31m                 \u001b[0;32mraise\u001b[0m \u001b[0mKeyboardInterrupt\u001b[0m\u001b[0;34m(\u001b[0m\u001b[0;34m\"Interrupted by user\"\u001b[0m\u001b[0;34m)\u001b[0m \u001b[0;32mfrom\u001b[0m \u001b[0;32mNone\u001b[0m\u001b[0;34m\u001b[0m\u001b[0;34m\u001b[0m\u001b[0m\n\u001b[0m\u001b[1;32m   1220\u001b[0m             \u001b[0;32mexcept\u001b[0m \u001b[0mException\u001b[0m\u001b[0;34m:\u001b[0m\u001b[0;34m\u001b[0m\u001b[0;34m\u001b[0m\u001b[0m\n\u001b[1;32m   1221\u001b[0m                 \u001b[0mself\u001b[0m\u001b[0;34m.\u001b[0m\u001b[0mlog\u001b[0m\u001b[0;34m.\u001b[0m\u001b[0mwarning\u001b[0m\u001b[0;34m(\u001b[0m\u001b[0;34m\"Invalid Message:\"\u001b[0m\u001b[0;34m,\u001b[0m \u001b[0mexc_info\u001b[0m\u001b[0;34m=\u001b[0m\u001b[0;32mTrue\u001b[0m\u001b[0;34m)\u001b[0m\u001b[0;34m\u001b[0m\u001b[0;34m\u001b[0m\u001b[0m\n",
            "\u001b[0;31mKeyboardInterrupt\u001b[0m: Interrupted by user"
          ]
        }
      ],
      "source": [
        "import getpass\n",
        "import os\n",
        "\n",
        "# del os.environ['NVIDIA_API_KEY']  ## delete key and reset\n",
        "if os.environ.get(\"NVIDIA_API_KEY\", \"\").startswith(\"nvapi-\"):\n",
        "    print(\"Valid NVIDIA_API_KEY already in environment. Delete to reset\")\n",
        "else:\n",
        "    nvapi_key = getpass.getpass(\"NVAPI Key (starts with nvapi-): \")\n",
        "    assert nvapi_key.startswith(\"nvapi-\"), f\"{nvapi_key[:5]}... is not a valid key\"\n",
        "    os.environ[\"NVIDIA_API_KEY\"] = nvapi_key\n",
        "\n",
        ""
      ]
    },
    {
      "cell_type": "code",
      "source": [],
      "metadata": {
        "id": "yqzjL8UFEeqP"
      },
      "execution_count": null,
      "outputs": []
    },
    {
      "cell_type": "markdown",
      "metadata": {
        "id": "l185et2kc8pS"
      },
      "source": [
        "We should be able to see an embedding model among that list which can be used in conjunction with an LLM for effective RAG solutions. We can interface with this model as well as other embedding models supported by NIM through the `NVIDIAEmbeddings` class."
      ]
    },
    {
      "cell_type": "markdown",
      "metadata": {
        "id": "-ZmnZA5D-LdH"
      },
      "source": [
        "## Working with NIMs on the NVIDIA API Catalog\n",
        "\n",
        "When initializing an embedding model you can select a model by passing it, e.g. `NV-Embed-QA` below, or use the default by not passing any arguments."
      ]
    },
    {
      "cell_type": "code",
      "execution_count": null,
      "metadata": {
        "id": "hbXmJssPdIPX"
      },
      "outputs": [],
      "source": [
        "from langchain_nvidia_ai_endpoints import NVIDIAEmbeddings\n",
        "\n",
        "embedder = NVIDIAEmbeddings(model=\"NV-Embed-QA\")"
      ]
    },
    {
      "cell_type": "markdown",
      "metadata": {
        "id": "SvQijbCwdLXB"
      },
      "source": [
        "This model is a fine-tuned E5-large model which supports the expected `Embeddings` methods including:\n",
        "\n",
        "- `embed_query`: Generate query embedding for a query sample.\n",
        "\n",
        "- `embed_documents`: Generate passage embeddings for a list of documents which you would like to search over.\n",
        "\n",
        "- `aembed_query`/`aembed_documents`: Asynchronous versions of the above."
      ]
    },
    {
      "cell_type": "markdown",
      "metadata": {
        "id": "uC2Z6DXU-LdI"
      },
      "source": [
        "## Working with self-hosted NVIDIA NIMs\n",
        "When ready to deploy, you can self-host models with NVIDIA NIM—which is included with the NVIDIA AI Enterprise software license—and run them anywhere, giving you ownership of your customizations and full control of your intellectual property (IP) and AI applications.\n",
        "\n",
        "[Learn more about NIMs](https://developer.nvidia.com/blog/nvidia-nim-offers-optimized-inference-microservices-for-deploying-ai-models-at-scale/)\n"
      ]
    },
    {
      "cell_type": "code",
      "execution_count": null,
      "metadata": {
        "id": "Ds0_SkQX-LdI"
      },
      "outputs": [],
      "source": [
        "from langchain_nvidia_ai_endpoints import NVIDIAEmbeddings\n",
        "\n",
        "# connect to an embedding NIM running at localhost:8080\n",
        "embedder = NVIDIAEmbeddings(base_url=\"http://localhost:8080/v1\")"
      ]
    },
    {
      "cell_type": "markdown",
      "metadata": {
        "id": "pcDu3v4CbmWk"
      },
      "source": [
        "### **Similarity**\n",
        "\n",
        "The following is a quick test of the similarity for these data points:\n",
        "\n",
        "**Queries:**\n",
        "\n",
        "- What's the weather like in Komchatka?\n",
        "\n",
        "- What kinds of food is Italy known for?\n",
        "\n",
        "- What's my name? I bet you don't remember...\n",
        "\n",
        "- What's the point of life anyways?\n",
        "\n",
        "- The point of life is to have fun :D\n",
        "\n",
        "**Documents:**\n",
        "\n",
        "- Komchatka's weather is cold, with long, severe winters.\n",
        "\n",
        "- Italy is famous for pasta, pizza, gelato, and espresso.\n",
        "\n",
        "- I can't recall personal names, only provide information.\n",
        "\n",
        "- Life's purpose varies, often seen as personal fulfillment.\n",
        "\n",
        "- Enjoying life's moments is indeed a wonderful approach."
      ]
    },
    {
      "cell_type": "markdown",
      "metadata": {
        "id": "xrmtRzgXdhMF"
      },
      "source": [
        "### Embedding Runtimes"
      ]
    },
    {
      "cell_type": "code",
      "execution_count": null,
      "metadata": {
        "id": "bUQM6OoObM_C"
      },
      "outputs": [],
      "source": [
        "print(\"\\nSequential Embedding: \")\n",
        "q_embeddings = [\n",
        "    embedder.embed_query(\"What's the weather like in Komchatka?\"),\n",
        "    embedder.embed_query(\"What kinds of food is Italy known for?\"),\n",
        "    embedder.embed_query(\"What's my name? I bet you don't remember...\"),\n",
        "    embedder.embed_query(\"What's the point of life anyways?\"),\n",
        "    embedder.embed_query(\"The point of life is to have fun :D\"),\n",
        "]\n",
        "print(\"Shape:\", (len(q_embeddings), len(q_embeddings[0])))"
      ]
    },
    {
      "cell_type": "markdown",
      "metadata": {
        "id": "SfX00xRdbKDw"
      },
      "source": [
        "### Document Embedding"
      ]
    },
    {
      "cell_type": "code",
      "execution_count": null,
      "metadata": {
        "id": "o1vKyTx-O_vZ"
      },
      "outputs": [],
      "source": [
        "print(\"\\nBatch Document Embedding: \")\n",
        "d_embeddings = embedder.embed_documents(\n",
        "    [\n",
        "        \"Komchatka's weather is cold, with long, severe winters.\",\n",
        "        \"Italy is famous for pasta, pizza, gelato, and espresso.\",\n",
        "        \"I can't recall personal names, only provide information.\",\n",
        "        \"Life's purpose varies, often seen as personal fulfillment.\",\n",
        "        \"Enjoying life's moments is indeed a wonderful approach.\",\n",
        "    ]\n",
        ")\n",
        "print(\"Shape:\", (len(q_embeddings), len(q_embeddings[0])))"
      ]
    },
    {
      "cell_type": "markdown",
      "metadata": {
        "id": "E6AilXxjdm1I"
      },
      "source": [
        "Now that we've generated our embeddings, we can do a simple similarity check on the results to see which documents would have triggered as reasonable answers in a retrieval task:"
      ]
    },
    {
      "cell_type": "code",
      "execution_count": null,
      "metadata": {
        "id": "UWg0GO7f-LdJ"
      },
      "outputs": [],
      "source": [
        "%pip install --upgrade --quiet  matplotlib scikit-learn"
      ]
    },
    {
      "cell_type": "code",
      "execution_count": null,
      "metadata": {
        "id": "7szaiBBYCHQ-"
      },
      "outputs": [],
      "source": [
        "import matplotlib.pyplot as plt\n",
        "import numpy as np\n",
        "from sklearn.metrics.pairwise import cosine_similarity\n",
        "\n",
        "# Compute the similarity matrix between q_embeddings and d_embeddings\n",
        "cross_similarity_matrix = cosine_similarity(\n",
        "    np.array(q_embeddings),\n",
        "    np.array(d_embeddings),\n",
        ")\n",
        "\n",
        "# Plotting the cross-similarity matrix\n",
        "plt.figure(figsize=(8, 6))\n",
        "plt.imshow(cross_similarity_matrix, cmap=\"Greens\", interpolation=\"nearest\")\n",
        "plt.colorbar()\n",
        "plt.title(\"Cross-Similarity Matrix\")\n",
        "plt.xlabel(\"Query Embeddings\")\n",
        "plt.ylabel(\"Document Embeddings\")\n",
        "plt.grid(True)\n",
        "plt.show()"
      ]
    },
    {
      "cell_type": "markdown",
      "metadata": {
        "id": "K5sLkHWZcRF2"
      },
      "source": [
        "As a reminder, the queries and documents sent to our system were:\n",
        "\n",
        "**Queries:**\n",
        "\n",
        "- What's the weather like in Komchatka?\n",
        "\n",
        "- What kinds of food is Italy known for?\n",
        "\n",
        "- What's my name? I bet you don't remember...\n",
        "\n",
        "- What's the point of life anyways?\n",
        "\n",
        "- The point of life is to have fun :D\n",
        "\n",
        "**Documents:**\n",
        "\n",
        "- Komchatka's weather is cold, with long, severe winters.\n",
        "\n",
        "- Italy is famous for pasta, pizza, gelato, and espresso.\n",
        "\n",
        "- I can't recall personal names, only provide information.\n",
        "\n",
        "- Life's purpose varies, often seen as personal fulfillment.\n",
        "\n",
        "- Enjoying life's moments is indeed a wonderful approach."
      ]
    },
    {
      "cell_type": "markdown",
      "metadata": {
        "id": "BQstCDGQ-LdJ"
      },
      "source": [
        "## Truncation\n",
        "\n",
        "Embedding models typically have a fixed context window that determines the maximum number of input tokens that can be embedded. This limit could be a hard limit, equal to the model's maximum input token length, or an effective limit, beyond which the accuracy of the embedding decreases.\n",
        "\n",
        "Since models operate on tokens and applications usually work with text, it can be challenging for an application to ensure that its input stays within the model's token limits. By default, an exception is thrown if the input is too large.\n",
        "\n",
        "To assist with this, NVIDIA's NIMs (API Catalog or local) provide a `truncate` parameter that truncates the input on the server side if it's too large.\n",
        "\n",
        "The `truncate` parameter has three options:\n",
        " - \"NONE\": The default option. An exception is thrown if the input is too large.\n",
        " - \"START\": The server truncates the input from the start (left), discarding tokens as necessary.\n",
        " - \"END\": The server truncates the input from the end (right), discarding tokens as necessary."
      ]
    },
    {
      "cell_type": "code",
      "execution_count": null,
      "metadata": {
        "id": "pAoRv9U0-LdK"
      },
      "outputs": [],
      "source": [
        "long_text = \"AI is amazing, amazing is \" * 100"
      ]
    },
    {
      "cell_type": "code",
      "execution_count": null,
      "metadata": {
        "id": "xFIkJDsB-LdK"
      },
      "outputs": [],
      "source": [
        "strict_embedder = NVIDIAEmbeddings()\n",
        "try:\n",
        "    strict_embedder.embed_query(long_text)\n",
        "except Exception as e:\n",
        "    print(\"Error:\", e)"
      ]
    },
    {
      "cell_type": "code",
      "execution_count": null,
      "metadata": {
        "id": "3QCJXQpx-LdK"
      },
      "outputs": [],
      "source": [
        "truncating_embedder = NVIDIAEmbeddings(truncate=\"END\")\n",
        "truncating_embedder.embed_query(long_text)[:5]"
      ]
    },
    {
      "cell_type": "markdown",
      "metadata": {
        "id": "RNIeY4N96v3B"
      },
      "source": [
        "## RAG Retrieval:\n",
        "\n",
        "The following is a repurposing of the initial example of the [LangChain Expression Language Retrieval Cookbook entry](\n",
        "https://python.langchain.com/docs/expression_language/cookbook/retrieval), but executed with the AI Foundation Models' [Mixtral 8x7B Instruct](https://catalog.ngc.nvidia.com/orgs/nvidia/teams/ai-foundation/models/mixtral-8x7b) and [NVIDIA Retrieval QA Embedding](https://catalog.ngc.nvidia.com/orgs/nvidia/teams/ai-foundation/models/nvolve-40k) models available in their playground environments. The subsequent examples in the cookbook also run as expected, and we encourage you to explore with these options.\n",
        "\n",
        "**TIP:** We would recommend using Mixtral for internal reasoning (i.e. instruction following for data extraction, tool selection, etc.) and Llama-Chat for a single final \"wrap-up by making a simple response that works for this user based on the history and context\" response."
      ]
    },
    {
      "cell_type": "code",
      "execution_count": null,
      "metadata": {
        "id": "zn_zeRGP64DJ"
      },
      "outputs": [],
      "source": [
        "%pip install --upgrade --quiet  langchain faiss-cpu tiktoken langchain_community\n",
        "\n",
        "from operator import itemgetter\n",
        "\n",
        "from langchain_community.vectorstores import FAISS\n",
        "from langchain_core.output_parsers import StrOutputParser\n",
        "from langchain_core.prompts import ChatPromptTemplate\n",
        "from langchain_core.runnables import RunnablePassthrough\n",
        "from langchain_nvidia_ai_endpoints import ChatNVIDIA"
      ]
    },
    {
      "cell_type": "code",
      "execution_count": null,
      "metadata": {
        "id": "zIXyr9Vd7CED"
      },
      "outputs": [],
      "source": [
        "vectorstore = FAISS.from_texts(\n",
        "    [\"harrison worked at kensho\"],\n",
        "    embedding=NVIDIAEmbeddings(model=\"NV-Embed-QA\"),\n",
        ")\n",
        "retriever = vectorstore.as_retriever()\n",
        "\n",
        "prompt = ChatPromptTemplate.from_messages(\n",
        "    [\n",
        "        (\n",
        "            \"system\",\n",
        "            \"Answer solely based on the following context:\\n<Documents>\\n{context}\\n</Documents>\",\n",
        "        ),\n",
        "        (\"user\", \"{question}\"),\n",
        "    ]\n",
        ")\n",
        "\n",
        "model = ChatNVIDIA(model=\"ai-mixtral-8x7b-instruct\")\n",
        "\n",
        "chain = (\n",
        "    {\"context\": retriever, \"question\": RunnablePassthrough()}\n",
        "    | prompt\n",
        "    | model\n",
        "    | StrOutputParser()\n",
        ")\n",
        "\n",
        "chain.invoke(\"where did harrison work?\")"
      ]
    },
    {
      "cell_type": "code",
      "execution_count": null,
      "metadata": {
        "id": "OuY62kJ28oNK"
      },
      "outputs": [],
      "source": [
        "prompt = ChatPromptTemplate.from_messages(\n",
        "    [\n",
        "        (\n",
        "            \"system\",\n",
        "            \"Answer using information solely based on the following context:\\n<Documents>\\n{context}\\n</Documents>\"\n",
        "            \"\\nSpeak only in the following language: {language}\",\n",
        "        ),\n",
        "        (\"user\", \"{question}\"),\n",
        "    ]\n",
        ")\n",
        "\n",
        "chain = (\n",
        "    {\n",
        "        \"context\": itemgetter(\"question\") | retriever,\n",
        "        \"question\": itemgetter(\"question\"),\n",
        "        \"language\": itemgetter(\"language\"),\n",
        "    }\n",
        "    | prompt\n",
        "    | model\n",
        "    | StrOutputParser()\n",
        ")\n",
        "\n",
        "chain.invoke({\"question\": \"where did harrison work\", \"language\": \"italian\"})"
      ]
    }
  ],
  "metadata": {
    "colab": {
      "provenance": []
    },
    "kernelspec": {
      "display_name": "Python 3 (ipykernel)",
      "language": "python",
      "name": "python3"
    },
    "language_info": {
      "codemirror_mode": {
        "name": "ipython",
        "version": 3
      },
      "file_extension": ".py",
      "mimetype": "text/x-python",
      "name": "python",
      "nbconvert_exporter": "python",
      "pygments_lexer": "ipython3",
      "version": "3.10.13"
    }
  },
  "nbformat": 4,
  "nbformat_minor": 0
}